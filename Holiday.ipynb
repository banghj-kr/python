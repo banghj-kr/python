{
  "cells": [
    {
      "cell_type": "markdown",
      "metadata": {
        "id": "view-in-github",
        "colab_type": "text"
      },
      "source": [
        "<a href=\"https://colab.research.google.com/github/banghj-kr/python/blob/main/Holiday.ipynb\" target=\"_parent\"><img src=\"https://colab.research.google.com/assets/colab-badge.svg\" alt=\"Open In Colab\"/></a>"
      ]
    },
    {
      "cell_type": "code",
      "source": [
        "import requests\n",
        "import xml.etree.ElementTree as ET\n",
        "import pandas as pd\n",
        "\n",
        "# API 기본 정보\n",
        "url = 'http://apis.data.go.kr/B090041/openapi/service/SpcdeInfoService/getRestDeInfo'\n",
        "service_key = '87NXFaC2EITt5xKHvE1NQ%2BCF5Ch6AB6bcbdFQiIexeFo%2BcUzHMKuskI4ThU7HSykg1lm8QOvWODtz6L60lNEdA%3D%3D'\n",
        "\n",
        "# 결과를 저장할 리스트\n",
        "all_holidays = []\n",
        "\n",
        "# 2016년 1월부터 2026년 12월까지 반복\n",
        "for year in range(2016, 2027):\n",
        "    for month in range(1, 13):\n",
        "        # API 요청\n",
        "        params = {\n",
        "            'serviceKey': service_key,\n",
        "            'solYear': str(year),\n",
        "            'solMonth': f\"{month:02d}\"\n",
        "        }\n",
        "        response = requests.get(url, params=params)\n",
        "\n",
        "        # XML 응답 처리\n",
        "        if response.status_code == 200:\n",
        "            root = ET.fromstring(response.content)\n",
        "            items = root.findall('.//item')  # 공휴일 정보 추출\n",
        "\n",
        "            for item in items:\n",
        "                date_name = item.find('dateName').text if item.find('dateName') is not None else None\n",
        "                loc_date = item.find('locdate').text if item.find('locdate') is not None else None\n",
        "\n",
        "                # 데이터 저장\n",
        "                if date_name and loc_date:\n",
        "                    all_holidays.append({\n",
        "                        'Holiday Name': date_name,\n",
        "                        'Date': loc_date\n",
        "                    })\n",
        "        else:\n",
        "            print(f\"Failed to fetch data for {year}-{month:02d}. Status Code: {response.status_code}\")\n",
        "\n",
        "# 테이블 생성\n",
        "df = pd.DataFrame(all_holidays)\n",
        "df['Date'] = pd.to_datetime(df['Date'], format='%Y%m%d')  # 날짜 형식 변환\n",
        "\n",
        "# 테이블 출력\n",
        "print(df)  # 데이터 프레임 출력\n",
        "\n",
        "# CSV 저장\n",
        "df.to_csv('holidays.csv', index=False)  # 로컬 파일로 저장\n"
      ],
      "metadata": {
        "id": "BA7cidD11k1Z",
        "outputId": "b2895ad1-44b4-464b-f3b9-837464f85728",
        "colab": {
          "base_uri": "https://localhost:8080/"
        }
      },
      "execution_count": 4,
      "outputs": [
        {
          "output_type": "stream",
          "name": "stdout",
          "text": [
            "  Holiday Name       Date\n",
            "0          삼일절 2022-03-01\n",
            "1       대통령선거일 2022-03-09\n",
            "2       국회의원선거 2024-04-10\n"
          ]
        }
      ]
    }
  ],
  "metadata": {
    "colab": {
      "name": "Overview of Colaboratory Features",
      "toc_visible": true,
      "provenance": [],
      "include_colab_link": true
    },
    "kernelspec": {
      "display_name": "Python 3",
      "name": "python3"
    }
  },
  "nbformat": 4,
  "nbformat_minor": 0
}